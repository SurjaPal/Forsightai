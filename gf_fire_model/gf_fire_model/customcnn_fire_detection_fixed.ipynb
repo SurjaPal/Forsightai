{
  "cells": [
    {
      "cell_type": "markdown",
      "metadata": {
        "id": "fire_detection_title"
      },
      "source": [
        "# 🔥 Fire Detection with CustomCNN - Fixed Version\n",
        "\n",
        "## Project Overview\n",
        "This notebook uses your pre-trained CustomCNN model with **CORRECTED PREDICTION LOGIC** to properly detect fire in images.\n",
        "\n",
        "**✅ FIXED**: Fire images now correctly show as \"FIRE\"**\n",
        "**✅ FIXED**: No Fire images now correctly show as \"NO FIRE\"**\n",
        "\n",
        "**Last Updated:** August 2025"
      ]
    },
    {
      "cell_type": "code",
      "execution_count": 1,
      "metadata": {
        "colab": {
          "base_uri": "https://localhost:8080/"
        },
        "id": "install_dependencies",
        "outputId": "e4a1b855-0129-4561-a896-d4321c250ac8"
      },
      "outputs": [
        {
          "name": "stdout",
          "output_type": "stream",
          "text": [
            "✅ All libraries loaded successfully!\n"
          ]
        }
      ],
      "source": [
        "# Install and import libraries\n",
        "!pip install -q tensorflow>=2.8.0\n",
        "!pip install -q matplotlib>=3.5.0\n",
        "!pip install -q pillow>=8.3.0\n",
        "\n",
        "import tensorflow as tf\n",
        "from tensorflow.keras.models import load_model\n",
        "import numpy as np\n",
        "import matplotlib.pyplot as plt\n",
        "import os\n",
        "from PIL import Image\n",
        "import warnings\n",
        "warnings.filterwarnings('ignore')\n",
        "\n",
        "print(\"✅ All libraries loaded successfully!\")"
      ]
    },
    {
      "cell_type": "code",
      "execution_count": 2,
      "metadata": {
        "colab": {
          "base_uri": "https://localhost:8080/"
        },
        "id": "load_model",
        "outputId": "67bf47fb-6b3e-41bf-b23d-7cf5bd6a9f2e"
      },
      "outputs": [
        {
          "name": "stderr",
          "output_type": "stream",
          "text": [
            "WARNING:absl:Compiled the loaded model, but the compiled metrics have yet to be built. `model.compile_metrics` will be empty until you train or evaluate the model.\n"
          ]
        },
        {
          "name": "stdout",
          "output_type": "stream",
          "text": [
            "✅ CustomCNN model loaded from CustomCNN_best_model.h5\n",
            "Model input shape: (None, 224, 224, 3)\n"
          ]
        }
      ],
      "source": [
        "# Load your CustomCNN model\n",
        "model_path = 'CustomCNN_best_model.h5'\n",
        "\n",
        "if os.path.exists(model_path):\n",
        "    custom_cnn_model = load_model(model_path)\n",
        "    print(f\"✅ CustomCNN model loaded from {model_path}\")\n",
        "    print(f\"Model input shape: {custom_cnn_model.input_shape}\")\n",
        "else:\n",
        "    print(f\"❌ Model file not found: {model_path}\")\n",
        "    print(\"Please upload CustomCNN_best_model.h5 to /content/ directory\")\n",
        "    custom_cnn_model = None"
      ]
    },
    {
      "cell_type": "code",
      "execution_count": 3,
      "metadata": {
        "colab": {
          "base_uri": "https://localhost:8080/"
        },
        "id": "fire_detector_corrected",
        "outputId": "59e582f4-6193-4254-a6a2-6ca072203e4c"
      },
      "outputs": [
        {
          "name": "stdout",
          "output_type": "stream",
          "text": [
            "🔥 CORRECTED Fire Detector Ready!\n",
            "✅ Fire images will now correctly show as FIRE\n",
            "✅ No-fire images will now correctly show as NO FIRE\n"
          ]
        }
      ],
      "source": [
        "# 🔥 CORRECTED Fire Detection System\n",
        "class FixedFireDetector:\n",
        "    def __init__(self, model):\n",
        "        self.model = model\n",
        "        self.img_size = (224, 224)\n",
        "        self.classes = ['No Fire', 'Fire']\n",
        "\n",
        "    def preprocess_image(self, image_path):\n",
        "        \"\"\"Preprocess image for model prediction\"\"\"\n",
        "        img = tf.keras.preprocessing.image.load_img(image_path, target_size=self.img_size)\n",
        "        img_array = tf.keras.preprocessing.image.img_to_array(img)\n",
        "        img_array = img_array / 255.0  # Normalize to 0-1\n",
        "        img_array = np.expand_dims(img_array, axis=0)\n",
        "        return img_array\n",
        "\n",
        "    def predict(self, image_path, threshold=0.5):\n",
        "        \"\"\"CORRECTED prediction logic - fire images will show as FIRE\"\"\"\n",
        "\n",
        "        # Preprocess image\n",
        "        processed_img = self.preprocess_image(image_path)\n",
        "\n",
        "        # Get model prediction\n",
        "        raw_prediction = self.model.predict(processed_img, verbose=0)[0][0]\n",
        "\n",
        "        # 🔧 CORRECTED LOGIC: Flip the prediction since classes are inverted\n",
        "        # If model gives high score, it means \"No Fire\" in the original training\n",
        "        # If model gives low score, it means \"Fire\" in the original training\n",
        "\n",
        "        predicted_class = 0 if raw_prediction > threshold else 1  # FLIPPED\n",
        "\n",
        "        # Calculate confidence correctly\n",
        "        if predicted_class == 1:  # Fire\n",
        "            confidence = 1 - raw_prediction  # Higher confidence when raw score is lower\n",
        "        else:  # No Fire\n",
        "            confidence = raw_prediction  # Higher confidence when raw score is higher\n",
        "\n",
        "        result = {\n",
        "            'raw_score': float(raw_prediction),\n",
        "            'predicted_class': int(predicted_class),\n",
        "            'class_name': self.classes[predicted_class],\n",
        "            'confidence': float(confidence),\n",
        "            'is_fire': bool(predicted_class == 1),\n",
        "            'threshold': threshold\n",
        "        }\n",
        "\n",
        "        return result\n",
        "\n",
        "    def visualize_prediction(self, image_path, threshold=0.5, figsize=(10, 6)):\n",
        "        \"\"\"Show image with corrected prediction\"\"\"\n",
        "\n",
        "        # Make prediction\n",
        "        result = self.predict(image_path, threshold)\n",
        "\n",
        "        # Load and display image\n",
        "        img = Image.open(image_path)\n",
        "\n",
        "        plt.figure(figsize=figsize)\n",
        "        plt.imshow(img)\n",
        "        plt.axis('off')\n",
        "\n",
        "        # Style based on corrected prediction\n",
        "        if result['is_fire']:\n",
        "            color = 'red'\n",
        "            emoji = '🔥'\n",
        "            alert = 'FIRE DETECTED!'\n",
        "            border_color = 'red'\n",
        "        else:\n",
        "            color = 'green'\n",
        "            emoji = '✅'\n",
        "            alert = 'NO FIRE'\n",
        "            border_color = 'green'\n",
        "\n",
        "        title = (\n",
        "            f\"{emoji} {alert}\\n\" +\n",
        "            f\"Confidence: {result['confidence']:.1%}\\n\" +\n",
        "            f\"Raw Score: {result['raw_score']:.3f} (Corrected)\"\n",
        "        )\n",
        "\n",
        "        plt.title(title, color=color, fontsize=16, fontweight='bold', pad=20)\n",
        "\n",
        "        # Add colored border\n",
        "        ax = plt.gca()\n",
        "        for spine in ax.spines.values():\n",
        "            spine.set_edgecolor(border_color)\n",
        "            spine.set_linewidth(5)\n",
        "\n",
        "        plt.tight_layout()\n",
        "        plt.show()\n",
        "\n",
        "        # Print detailed results\n",
        "        print(f\"\\n{'='*60}\")\n",
        "        print(f\"🔍 CORRECTED FIRE DETECTION RESULTS\")\n",
        "        print(f\"{'='*60}\")\n",
        "        print(f\"🎯 Final Result: {result['class_name']}\")\n",
        "        print(f\"📊 Confidence: {result['confidence']:.1%}\")\n",
        "        print(f\"🔢 Raw Model Score: {result['raw_score']:.4f}\")\n",
        "        print(f\"⚙️ Threshold Used: {result['threshold']}\")\n",
        "        print(f\"🔥 Fire Detected: {'YES' if result['is_fire'] else 'NO'}\")\n",
        "        print(f\"🔧 Logic: CORRECTED (Inverted from original model)\")\n",
        "\n",
        "        if result['is_fire']:\n",
        "            if result['confidence'] > 0.8:\n",
        "                print(\"🚨 HIGH CONFIDENCE FIRE DETECTION! Take immediate action if real scenario.\")\n",
        "            else:\n",
        "                print(\"⚠️ Fire detected - verify if needed.\")\n",
        "        else:\n",
        "            print(\"✅ SAFE: No fire detected in the image.\")\n",
        "\n",
        "        return result\n",
        "\n",
        "# Initialize the corrected fire detector\n",
        "if custom_cnn_model is not None:\n",
        "    fire_detector = FixedFireDetector(custom_cnn_model)\n",
        "    print(\"🔥 CORRECTED Fire Detector Ready!\")\n",
        "    print(\"✅ Fire images will now correctly show as FIRE\")\n",
        "    print(\"✅ No-fire images will now correctly show as NO FIRE\")\n",
        "else:\n",
        "    fire_detector = None"
      ]
    },
    {
      "cell_type": "code",
      "execution_count": null,
      "metadata": {
        "colab": {
          "base_uri": "https://localhost:8080/",
          "height": 1000
        },
        "id": "upload_interface",
        "outputId": "b9b165d3-3322-4243-b47f-a89cddd08781"
      },
      "outputs": [
        {
          "name": "stdout",
          "output_type": "stream",
          "text": [
            "🚀 READY TO DETECT FIRE WITH CORRECTED RESULTS!\n"
          ]
        }
      ],
      "source": [
        "import tkinter as tk\n",
        "from tkinter import filedialog\n",
        "import os\n",
        "\n",
        "def upload_and_detect_fire():\n",
        "    \"\"\"Open GUI with a button to select an image and run fire detection\"\"\"\n",
        "\n",
        "    if fire_detector is None:\n",
        "        print(\"❌ Fire detector not available. Please load the model first.\")\n",
        "        return\n",
        "\n",
        "    def select_file():\n",
        "        filename = filedialog.askopenfilename(\n",
        "            title=\"Select an image\",\n",
        "            filetypes=[(\"Image files\", \"*.jpg *.jpeg *.png *.bmp\")]\n",
        "        )\n",
        "        if filename:\n",
        "            status_label.config(text=f\"🔍 Analyzing: {os.path.basename(filename)}\")\n",
        "            try:\n",
        "                fire_detector.visualize_prediction(filename)\n",
        "                status_label.config(text=f\"✅ Analysis complete: {os.path.basename(filename)}\")\n",
        "            except Exception as e:\n",
        "                status_label.config(text=f\"❌ Error: {e}\")\n",
        "        else:\n",
        "            status_label.config(text=\"❌ No file selected\")\n",
        "\n",
        "    # GUI Window\n",
        "    root = tk.Tk()\n",
        "    root.title(\"🔥 Fire Detection System\")\n",
        "\n",
        "    # Button\n",
        "    btn = tk.Button(root, text=\"Choose File\", command=select_file, font=(\"Arial\", 14), padx=10, pady=5)\n",
        "    btn.pack(pady=20)\n",
        "\n",
        "    # Status Label\n",
        "    status_label = tk.Label(root, text=\"Please select an image file...\", font=(\"Arial\", 12))\n",
        "    status_label.pack(pady=10)\n",
        "\n",
        "    root.mainloop()\n",
        "\n",
        "print(\"🚀 READY TO DETECT FIRE WITH CORRECTED RESULTS!\")\n",
        "upload_and_detect_fire()\n"
      ]
    },
    {
      "cell_type": "code",
      "execution_count": null,
      "metadata": {},
      "outputs": [],
      "source": []
    }
  ],
  "metadata": {
    "colab": {
      "provenance": []
    },
    "kernelspec": {
      "display_name": "myenv",
      "language": "python",
      "name": "python3"
    },
    "language_info": {
      "codemirror_mode": {
        "name": "ipython",
        "version": 3
      },
      "file_extension": ".py",
      "mimetype": "text/x-python",
      "name": "python",
      "nbconvert_exporter": "python",
      "pygments_lexer": "ipython3",
      "version": "3.13.7"
    }
  },
  "nbformat": 4,
  "nbformat_minor": 0
}
